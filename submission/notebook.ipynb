{
 "cells": [
  {
   "cell_type": "markdown",
   "metadata": {
    "id": "H9wADwK78DCz"
   },
   "source": [
    "# Proyek Analisis Data: [Bike Sharing Dataset]\n",
    "- **Nama:** ALIFIO NOERIFANZA\n",
    "- **Email:** ALIFIONSZ@GMAIL.COM\n",
    "- **ID Dicoding:** alifio noerifanza"
   ]
  },
  {
   "cell_type": "markdown",
   "metadata": {
    "id": "eE0raob58DC0"
   },
   "source": [
    "## Menentukan Pertanyaan Bisnis"
   ]
  },
  {
   "cell_type": "markdown",
   "metadata": {
    "id": "GmQeQ5YF8DC0"
   },
   "source": [
    "- Pertanyaan 1\n",
    " \"Apa efek keadaan cuaca terhadap naik turunnya pelanggan?\"\n",
    "- Pertanyaan 2\n",
    " \"Apa efek hari kerja/libur terhadap naik turunnya pelanggan?\""
   ]
  },
  {
   "cell_type": "markdown",
   "metadata": {
    "id": "H-z4QGlO8DC1"
   },
   "source": [
    "## Import Semua Packages/Library yang Digunakan"
   ]
  },
  {
   "cell_type": "code",
   "execution_count": null,
   "metadata": {
    "id": "FVYwaObI8DC1"
   },
   "outputs": [],
   "source": [
    "#'import modules'\n",
    "import streamlit as st\n",
    "import pandas as pd\n",
    "import matplotlib.pyplot as plt\n",
    "import seaborn as sns"
   ]
  },
  {
   "cell_type": "markdown",
   "metadata": {
    "id": "h_Sh51Xy8DC1"
   },
   "source": [
    "## Data Wrangling"
   ]
  },
  {
   "cell_type": "markdown",
   "metadata": {
    "id": "sXU2GBYu8DC1"
   },
   "source": [
    "### Gathering Data"
   ]
  },
  {
   "cell_type": "code",
   "execution_count": null,
   "metadata": {
    "id": "zjCBk1BI8DC1"
   },
   "outputs": [],
   "source": [
    "#'Gathering data'\n",
    "df = pd.read_csv('Data/day.csv') #import data Day\n",
    "hour_df= pd.read_csv('Data/hour.csv')"
   ]
  },
  {
   "cell_type": "markdown",
   "metadata": {
    "id": "MMi6xGaDkbCi"
   },
   "source": [
    "**Insight:**\n",
    "- Terdapat dua data yaitu data customer berdasarkan harian dan data customer berdasarkan jam"
   ]
  },
  {
   "cell_type": "markdown",
   "metadata": {
    "id": "FHSiqaZp8DC1"
   },
   "source": [
    "### Assessing Data"
   ]
  },
  {
   "cell_type": "code",
   "execution_count": null,
   "metadata": {
    "id": "ax-3tEjc9Cj1"
   },
   "outputs": [
    {
     "name": "stdout",
     "output_type": "stream",
     "text": [
      "0\n",
      "0\n",
      "instant       0\n",
      "dteday        0\n",
      "season        0\n",
      "yr            0\n",
      "mnth          0\n",
      "holiday       0\n",
      "weekday       0\n",
      "workingday    0\n",
      "weathersit    0\n",
      "temp          0\n",
      "atemp         0\n",
      "hum           0\n",
      "windspeed     0\n",
      "casual        0\n",
      "registered    0\n",
      "cnt           0\n",
      "dtype: int64\n",
      "instant       0\n",
      "dteday        0\n",
      "season        0\n",
      "yr            0\n",
      "mnth          0\n",
      "hr            0\n",
      "holiday       0\n",
      "weekday       0\n",
      "workingday    0\n",
      "weathersit    0\n",
      "temp          0\n",
      "atemp         0\n",
      "hum           0\n",
      "windspeed     0\n",
      "casual        0\n",
      "registered    0\n",
      "cnt           0\n",
      "dtype: int64\n"
     ]
    }
   ],
   "source": [
    "#'assessing data'\n",
    "dupes=df.duplicated().sum()#nyari duplicate\n",
    "hour_dupes=hour_df.duplicated().sum()\n",
    "nan=df.isna().sum()\n",
    "hour_nan=hour_df.isna().sum()\n",
    "print(hour_dupes)\n",
    "print(dupes) #print jumlah duplicates\n",
    "print(nan)\n",
    "print(hour_nan)  #print jumlah missing value"
   ]
  },
  {
   "cell_type": "markdown",
   "metadata": {
    "id": "7dtxhAPrkhPL"
   },
   "source": [
    "**Insight:**\n",
    "- Kedua data relatif bersih karena tidak ada data kosong atau duplikat."
   ]
  },
  {
   "cell_type": "markdown",
   "metadata": {
    "id": "EhN5R4hr8DC1"
   },
   "source": [
    "### Cleaning Data"
   ]
  },
  {
   "cell_type": "code",
   "execution_count": null,
   "metadata": {
    "id": "jVnYpprE9Evz"
   },
   "outputs": [],
   "source": [
    "#'cleaning data'\n",
    "hour_df.drop_duplicates(inplace=True)\n",
    "df.drop_duplicates(inplace=True)\n",
    "df['dteday'] = pd.to_datetime(df['dteday']) #mengubah data tanggal jadi bisa dibaca\n",
    "hour_df['dteday'] = pd.to_datetime(hour_df['dteday'])\n",
    "new_df = df.dropna() #menghilangkan kolom data yang kosong jika ada\n",
    "hnew_df = hour_df.dropna()\n",
    "\n",
    "hnew_df['True Temperature'] = hnew_df['temp'] * 41 #menambah data true temp (celcius)\n",
    "hnew_df['True Humidity'] = hnew_df['hum'] * 100 #menambah data true humidity (persentase kelembapan)\n",
    "hnew_df['Felt Temperature'] = hnew_df['atemp'] * 50 #menambah data felt temperature (celcius)\n",
    "hnew_df['True Wind'] = hnew_df['windspeed'] * 67 #data kecepatan angin (Meter per detik)\n",
    "\n",
    "new_df['True Temperature'] = new_df['temp'] * 41 #menambah data true temp (celcius)\n",
    "new_df['True Humidity'] = new_df['hum'] * 100 #menambah data true humidity (persentase kelembapan)\n",
    "new_df['Felt Temperature'] = new_df['atemp'] * 50 #menambah data felt temperature (celcius)\n",
    "new_df['True Wind'] = new_df['windspeed'] * 67 #data kecepatan angin (Meter per detik)"
   ]
  },
  {
   "cell_type": "markdown",
   "metadata": {
    "id": "Q_5ejIqckiSP"
   },
   "source": [
    "**Insight:**\n",
    "- Menurut file Readme, untuk mendapat nilai Temperatur, Humidity, dan Windspeed yang aktual (nominalnya dapat difahami) harus dikalikan dulu nilainya\n",
    "- \"\t- temp : Normalized temperature in Celsius. The values are divided to 41 (max)\n",
    "\t- atemp: Normalized feeling temperature in Celsius. The values are divided to 50 (max)\n",
    "\t- hum: Normalized humidity. The values are divided to 100 (max)\n",
    "\t- windspeed: Normalized wind speed. The values are divided to 67 (max)\"\n",
    "\n",
    "\ttemperature normalnya dengan satuan Celcius, kelembapan (humidity) adalah persenan, dan windspeed adalah m/s"
   ]
  },
  {
   "cell_type": "markdown",
   "metadata": {
    "id": "gp-Y6wU38DC1"
   },
   "source": [
    "## Exploratory Data Analysis (EDA)"
   ]
  },
  {
   "cell_type": "markdown",
   "metadata": {
    "id": "MW7WF2kr8DC1"
   },
   "source": [
    "### Explore ..."
   ]
  },
  {
   "cell_type": "code",
   "execution_count": null,
   "metadata": {
    "id": "e9CQCZjk8DC2"
   },
   "outputs": [
    {
     "name": "stdout",
     "output_type": "stream",
     "text": [
      "          instant               dteday      season          yr        mnth  \\\n",
      "count  731.000000                  731  731.000000  731.000000  731.000000   \n",
      "mean   366.000000  2012-01-01 00:00:00    2.496580    0.500684    6.519836   \n",
      "min      1.000000  2011-01-01 00:00:00    1.000000    0.000000    1.000000   \n",
      "25%    183.500000  2011-07-02 12:00:00    2.000000    0.000000    4.000000   \n",
      "50%    366.000000  2012-01-01 00:00:00    3.000000    1.000000    7.000000   \n",
      "75%    548.500000  2012-07-01 12:00:00    3.000000    1.000000   10.000000   \n",
      "max    731.000000  2012-12-31 00:00:00    4.000000    1.000000   12.000000   \n",
      "std    211.165812                  NaN    1.110807    0.500342    3.451913   \n",
      "\n",
      "          holiday     weekday  workingday  weathersit        temp       atemp  \\\n",
      "count  731.000000  731.000000  731.000000  731.000000  731.000000  731.000000   \n",
      "mean     0.028728    2.997264    0.683995    1.395349    0.495385    0.474354   \n",
      "min      0.000000    0.000000    0.000000    1.000000    0.059130    0.079070   \n",
      "25%      0.000000    1.000000    0.000000    1.000000    0.337083    0.337842   \n",
      "50%      0.000000    3.000000    1.000000    1.000000    0.498333    0.486733   \n",
      "75%      0.000000    5.000000    1.000000    2.000000    0.655417    0.608602   \n",
      "max      1.000000    6.000000    1.000000    3.000000    0.861667    0.840896   \n",
      "std      0.167155    2.004787    0.465233    0.544894    0.183051    0.162961   \n",
      "\n",
      "              hum   windspeed       casual   registered          cnt  \\\n",
      "count  731.000000  731.000000   731.000000   731.000000   731.000000   \n",
      "mean     0.627894    0.190486   848.176471  3656.172367  4504.348837   \n",
      "min      0.000000    0.022392     2.000000    20.000000    22.000000   \n",
      "25%      0.520000    0.134950   315.500000  2497.000000  3152.000000   \n",
      "50%      0.626667    0.180975   713.000000  3662.000000  4548.000000   \n",
      "75%      0.730209    0.233214  1096.000000  4776.500000  5956.000000   \n",
      "max      0.972500    0.507463  3410.000000  6946.000000  8714.000000   \n",
      "std      0.142429    0.077498   686.622488  1560.256377  1937.211452   \n",
      "\n",
      "       True Temperature  True Humidity  Felt Temperature   True Wind  \n",
      "count        731.000000     731.000000        731.000000  731.000000  \n",
      "mean          20.310776      62.789406         23.717699   12.762576  \n",
      "min            2.424346       0.000000          3.953480    1.500244  \n",
      "25%           13.820424      52.000000         16.892125    9.041650  \n",
      "50%           20.431653      62.666700         24.336650   12.125325  \n",
      "75%           26.872076      73.020850         30.430100   15.625371  \n",
      "max           35.328347      97.250000         42.044800   34.000021  \n",
      "std            7.505091      14.242910          8.148059    5.192357  \n"
     ]
    }
   ],
   "source": [
    "#'Exploratory data analysis'\n",
    "df_cuaca = new_df.loc[:, [\"mnth\",\"Felt Temperature\",\"True Humidity\", \"True Wind\", \"weathersit\" ,\"casual\", \"registered\"]] #memilih kolom temp dan cnt dan menjadikannya data frame 2 (df2)\n",
    "df_weekday = new_df.loc[:, [\"holiday\",\"weekday\",\"workingday\", \"casual\", \"registered\"]]\n",
    "corrcuaca= df_cuaca.corr() #mencari korelasi antar variable. semakin positif maka berbanding positif, jika negatif berbanding terbalik\n",
    "corrweekday= df_weekday.corr()\n",
    "described=new_df.describe()\n",
    "hdescribed=hnew_df.describe()\n",
    "based_cuaca= new_df.groupby(by=\"weathersit\").max().reset_index()\n",
    "df_tempdate = new_df.loc[:, [\"dteday\", \"Felt Temperature\"]].reset_index()\n",
    "#untuk dataset hour\n",
    "based_hday= hnew_df.loc[:, [\"weekday\",\"hr\",\"workingday\", \"casual\", \"registered\"]]\n",
    "corrday= based_hday.corr()\n",
    "\n",
    "print(described)\n",
    "\n"
   ]
  },
  {
   "cell_type": "markdown",
   "metadata": {
    "id": "th_Lzl2Fkj9O"
   },
   "source": [
    "**Insight:**\n",
    "- Dalam data harian terdapat 731 data yang terkumpul\n",
    "- Dalam data per jam terdapat 17379 data yang terkumpul\n",
    "- Kelembapan (Humidity) terendah adalah 0%\n",
    "- Suhu terendah adalah 2.4 derajat celcius dengan suhu terasa terendah yaitu 3.9 derajat celcius\n",
    "- kecepatan angin terendah adalah 1.5 m/s\n",
    "- jumlah pelanggan paling rendah dalam satu hari adalah 22 orang\n",
    "\n",
    "- jumlah pelanggan terbanyak adalah 8714\n",
    "- suhu tertinggi adalah 35.3 derajat celcius dengan suhu terasa tertinggi yaitu 42 derajat celcius\n",
    "- kecepatan angin tertinggi adalah 34 m/s\n",
    "- Pelanggan tidak suka bersepeda pada suhu rendah dengan kelembapan dan kecepatan angin yang tinggi\n",
    "- Jam-jam yang tidak disukai orang untuk bersepeda adalah dari jam 23.00 sampai jam 06.00"
   ]
  },
  {
   "cell_type": "markdown",
   "metadata": {
    "id": "zsyZjqak8DC2"
   },
   "source": [
    "## Visualization & Explanatory Analysis"
   ]
  },
  {
   "cell_type": "markdown",
   "metadata": {
    "id": "HZxOiQ6n8DC2"
   },
   "source": [
    "### Pertanyaan 1:"
   ]
  },
  {
   "cell_type": "code",
   "execution_count": null,
   "metadata": {
    "id": "1swJUdAD8DC2"
   },
   "outputs": [
    {
     "name": "stderr",
     "output_type": "stream",
     "text": [
      "2024-11-25 20:15:33.199 WARNING streamlit.runtime.scriptrunner_utils.script_run_context: Thread 'MainThread': missing ScriptRunContext! This warning can be ignored when running in bare mode.\n",
      "2024-11-25 20:15:33.511 \n",
      "  \u001b[33m\u001b[1mWarning:\u001b[0m to view this Streamlit app on a browser, run it with the following\n",
      "  command:\n",
      "\n",
      "    streamlit run C:\\Users\\Blin_guy\\anaconda3\\envs\\Streamlitbutgood\\lib\\site-packages\\ipykernel_launcher.py [ARGUMENTS]\n",
      "2024-11-25 20:15:33.511 Thread 'MainThread': missing ScriptRunContext! This warning can be ignored when running in bare mode.\n",
      "2024-11-25 20:15:33.512 Thread 'MainThread': missing ScriptRunContext! This warning can be ignored when running in bare mode.\n",
      "2024-11-25 20:15:33.521 Thread 'MainThread': missing ScriptRunContext! This warning can be ignored when running in bare mode.\n",
      "2024-11-25 20:15:33.522 Thread 'MainThread': missing ScriptRunContext! This warning can be ignored when running in bare mode.\n",
      "2024-11-25 20:15:33.522 Thread 'MainThread': missing ScriptRunContext! This warning can be ignored when running in bare mode.\n",
      "2024-11-25 20:15:33.523 Thread 'MainThread': missing ScriptRunContext! This warning can be ignored when running in bare mode.\n",
      "2024-11-25 20:15:33.523 Thread 'MainThread': missing ScriptRunContext! This warning can be ignored when running in bare mode.\n",
      "2024-11-25 20:15:33.524 Thread 'MainThread': missing ScriptRunContext! This warning can be ignored when running in bare mode.\n",
      "2024-11-25 20:15:33.537 Thread 'MainThread': missing ScriptRunContext! This warning can be ignored when running in bare mode.\n",
      "2024-11-25 20:15:33.537 Thread 'MainThread': missing ScriptRunContext! This warning can be ignored when running in bare mode.\n",
      "2024-11-25 20:15:33.538 Thread 'MainThread': missing ScriptRunContext! This warning can be ignored when running in bare mode.\n",
      "2024-11-25 20:15:33.538 Session state does not function when running a script without `streamlit run`\n",
      "2024-11-25 20:15:33.539 Thread 'MainThread': missing ScriptRunContext! This warning can be ignored when running in bare mode.\n",
      "2024-11-25 20:15:33.539 Thread 'MainThread': missing ScriptRunContext! This warning can be ignored when running in bare mode.\n",
      "2024-11-25 20:15:33.540 Thread 'MainThread': missing ScriptRunContext! This warning can be ignored when running in bare mode.\n",
      "2024-11-25 20:15:33.540 Thread 'MainThread': missing ScriptRunContext! This warning can be ignored when running in bare mode.\n",
      "2024-11-25 20:15:33.540 Thread 'MainThread': missing ScriptRunContext! This warning can be ignored when running in bare mode.\n",
      "2024-11-25 20:15:33.541 Thread 'MainThread': missing ScriptRunContext! This warning can be ignored when running in bare mode.\n",
      "2024-11-25 20:15:33.541 Thread 'MainThread': missing ScriptRunContext! This warning can be ignored when running in bare mode.\n",
      "2024-11-25 20:15:33.541 Thread 'MainThread': missing ScriptRunContext! This warning can be ignored when running in bare mode.\n",
      "2024-11-25 20:15:33.542 Thread 'MainThread': missing ScriptRunContext! This warning can be ignored when running in bare mode.\n",
      "2024-11-25 20:15:33.543 Thread 'MainThread': missing ScriptRunContext! This warning can be ignored when running in bare mode.\n",
      "2024-11-25 20:15:33.544 Thread 'MainThread': missing ScriptRunContext! This warning can be ignored when running in bare mode.\n",
      "2024-11-25 20:15:33.544 Thread 'MainThread': missing ScriptRunContext! This warning can be ignored when running in bare mode.\n",
      "2024-11-25 20:15:33.545 Thread 'MainThread': missing ScriptRunContext! This warning can be ignored when running in bare mode.\n",
      "2024-11-25 20:15:33.545 Thread 'MainThread': missing ScriptRunContext! This warning can be ignored when running in bare mode.\n",
      "2024-11-25 20:15:33.546 Thread 'MainThread': missing ScriptRunContext! This warning can be ignored when running in bare mode.\n",
      "2024-11-25 20:15:33.547 Thread 'MainThread': missing ScriptRunContext! This warning can be ignored when running in bare mode.\n",
      "2024-11-25 20:15:33.547 Thread 'MainThread': missing ScriptRunContext! This warning can be ignored when running in bare mode.\n",
      "2024-11-25 20:15:33.547 Thread 'MainThread': missing ScriptRunContext! This warning can be ignored when running in bare mode.\n",
      "2024-11-25 20:15:33.548 Thread 'MainThread': missing ScriptRunContext! This warning can be ignored when running in bare mode.\n",
      "2024-11-25 20:15:33.548 Thread 'MainThread': missing ScriptRunContext! This warning can be ignored when running in bare mode.\n",
      "2024-11-25 20:15:33.549 Thread 'MainThread': missing ScriptRunContext! This warning can be ignored when running in bare mode.\n",
      "2024-11-25 20:15:34.020 Thread 'MainThread': missing ScriptRunContext! This warning can be ignored when running in bare mode.\n",
      "2024-11-25 20:15:35.144 Thread 'MainThread': missing ScriptRunContext! This warning can be ignored when running in bare mode.\n",
      "2024-11-25 20:15:35.145 Thread 'MainThread': missing ScriptRunContext! This warning can be ignored when running in bare mode.\n",
      "2024-11-25 20:15:35.146 Thread 'MainThread': missing ScriptRunContext! This warning can be ignored when running in bare mode.\n",
      "2024-11-25 20:15:35.146 Thread 'MainThread': missing ScriptRunContext! This warning can be ignored when running in bare mode.\n",
      "2024-11-25 20:15:35.147 Thread 'MainThread': missing ScriptRunContext! This warning can be ignored when running in bare mode.\n",
      "2024-11-25 20:15:35.147 Thread 'MainThread': missing ScriptRunContext! This warning can be ignored when running in bare mode.\n",
      "2024-11-25 20:15:35.147 Thread 'MainThread': missing ScriptRunContext! This warning can be ignored when running in bare mode.\n",
      "2024-11-25 20:15:35.148 Thread 'MainThread': missing ScriptRunContext! This warning can be ignored when running in bare mode.\n",
      "2024-11-25 20:15:35.149 Thread 'MainThread': missing ScriptRunContext! This warning can be ignored when running in bare mode.\n",
      "2024-11-25 20:15:35.150 Thread 'MainThread': missing ScriptRunContext! This warning can be ignored when running in bare mode.\n",
      "2024-11-25 20:15:35.150 Thread 'MainThread': missing ScriptRunContext! This warning can be ignored when running in bare mode.\n",
      "2024-11-25 20:15:35.151 Thread 'MainThread': missing ScriptRunContext! This warning can be ignored when running in bare mode.\n",
      "2024-11-25 20:15:35.151 Thread 'MainThread': missing ScriptRunContext! This warning can be ignored when running in bare mode.\n",
      "2024-11-25 20:15:36.221 Thread 'MainThread': missing ScriptRunContext! This warning can be ignored when running in bare mode.\n",
      "2024-11-25 20:15:37.100 Thread 'MainThread': missing ScriptRunContext! This warning can be ignored when running in bare mode.\n",
      "2024-11-25 20:15:37.101 Thread 'MainThread': missing ScriptRunContext! This warning can be ignored when running in bare mode.\n",
      "2024-11-25 20:15:37.101 Thread 'MainThread': missing ScriptRunContext! This warning can be ignored when running in bare mode.\n",
      "2024-11-25 20:15:37.102 Thread 'MainThread': missing ScriptRunContext! This warning can be ignored when running in bare mode.\n",
      "2024-11-25 20:15:37.102 Thread 'MainThread': missing ScriptRunContext! This warning can be ignored when running in bare mode.\n",
      "2024-11-25 20:15:37.466 Thread 'MainThread': missing ScriptRunContext! This warning can be ignored when running in bare mode.\n",
      "2024-11-25 20:15:38.538 Thread 'MainThread': missing ScriptRunContext! This warning can be ignored when running in bare mode.\n",
      "2024-11-25 20:15:38.539 Thread 'MainThread': missing ScriptRunContext! This warning can be ignored when running in bare mode.\n"
     ]
    }
   ],
   "source": [
    "#\"Menampilkan data di Streamlit\"\n",
    "st.title('DASHBOARD DATA BISNIS RENTAL SEPEDA')\n",
    " \n",
    "min_date = new_df[\"dteday\"].min()\n",
    "max_date = new_df[\"dteday\"].max()\n",
    "\n",
    "with st.sidebar:\n",
    "    st.image(\"Data\\companylogo.jpg\")\n",
    "    \n",
    "    start_date, end_date = st.date_input(\n",
    "       label='Rentang Waktu',min_value=min_date,\n",
    "       max_value=max_date,\n",
    "       value=[min_date, max_date])\n",
    "    \n",
    "    main_df = new_df[(new_df[\"dteday\"] >= str(start_date)) & \n",
    "                (new_df[\"dteday\"] <= str(end_date))]\n",
    "    hmain_df = hnew_df[(new_df[\"dteday\"] >= str(start_date)) & \n",
    "                (hnew_df[\"dteday\"] <= str(end_date))]\n",
    "    \n",
    "    text = st.text_area('Kotak Saran')\n",
    "    if st.button('Kirim'):\n",
    "        st.write('Saran: ', text)\n",
    "        \n",
    "    st.write(\"Bike-rent© 2024, All rights not reserved yet\")\n",
    "    \n",
    "    \n",
    "tab1, tab2, tab3= st.tabs([\"Efek Cuaca\", \"Graf Perilaku pelanggan\",\"Tabel Korelasi dan Statistik\"])\n",
    " \n",
    "with tab1:\n",
    "    st.header(\"Data Cuaca\")\n",
    "    \n",
    "    col1, col2= st.columns([4, 1])\n",
    "    with col1:\n",
    "        st.header(\"Grafik\")\n",
    "        #\"Plot data cuaca\"\n",
    "        fig2, axes = plt.subplots(3, 1, figsize=(20, 20))\n",
    "\n",
    "        sns.lineplot(x='dteday', y='Felt Temperature', ax=axes[0],data=main_df)\n",
    "        axes[0].set_title('Temperatur atas tanggal')\n",
    "        \n",
    "        sns.lineplot(x='hr', y='Felt Temperature', ax=axes[1],data=hmain_df)\n",
    "        axes[1].set_title('jam dan rata-rata temperatur dalam rentang tanggal')\n",
    "        \n",
    "        sns.lineplot(x='weathersit', y='cnt', ax=axes[2],data=main_df)\n",
    "        axes[2].set_title(\"Cuaca dan Customer\")\n",
    "        \n",
    "        plt.subplots_adjust(left=0.1,\n",
    "                            bottom=0.1, \n",
    "                            right=0.9, \n",
    "                            top=1.2, \n",
    "                            wspace=0.4, \n",
    "                            hspace=1)\n",
    "        st.pyplot(fig2.get_figure())\n",
    "     \n",
    "    with col2:\n",
    "        st.header(\"Catatan\")\n",
    "        st.write(\"nilai weathersit: \\n\\n 1= cerah/berawan \\n\\n 2= berkabut/hujan \\n\\n 3=hujan besar atau badai es\")\n",
    "     \n",
    "\n",
    "with tab2:\n",
    "    st.header(\"Graf Perilaku Pelanggan\")\n",
    "    with st.container():\n",
    "        st.subheader(\"Pelanggan Per Jam\")\n",
    "        #'plot data customer\n",
    "        fig3, axes = plt.subplots(3, figsize=(20, 20))\n",
    "        sns.lineplot(x=\"hr\", y='cnt', ax=axes[0],data=hmain_df) #untuk hour --> customer\n",
    "        axes[0].set_title('jam dan customer total')\n",
    "    \n",
    "        sns.lineplot(x=\"hr\", y='casual', ax=axes[1],data=hmain_df) #untuk hour --> casual customer\n",
    "        axes[1].set_title('jam dan customer kasual')\n",
    "    \n",
    "        sns.lineplot(x=\"hr\", y='registered', ax=axes[2],data=hmain_df) #untuk hour --> registered customer\n",
    "        axes[2].set_title('jam dan customer terdaftar')\n",
    "        st.pyplot(fig3.get_figure())\n",
    "\n",
    "    with st.container():\n",
    "        st.subheader(\"Pelanggan Harian\")\n",
    "        fig4, axes = plt.subplots(3, figsize=(20, 20))\n",
    "        sns.lineplot(x=\"weekday\", y='casual', ax=axes[0],data=main_df) #untuk weekday --> casual customer\n",
    "        axes[0].set_title('Hari ke customer kasual, 0= Hari minggu')\n",
    "    \n",
    "        sns.lineplot(x=\"weekday\", y='cnt', ax=axes[1],data=main_df) #untuk weekday --> customer\n",
    "        axes[1].set_title('Hari ke customer total, 0= Hari minggu')\n",
    "    \n",
    "        sns.lineplot(x=\"weekday\", y='registered', ax=axes[2],data=main_df) #untuk weekday --> registered customer\n",
    "        axes[2].set_title('Hari ke customer yang terdaftar, 0= Hari minggu')\n",
    "        plt.subplots_adjust(left=0.1,\n",
    "                            bottom=0.1, \n",
    "                            right=0.9, \n",
    "                            top=1.2, \n",
    "                            wspace=0.4, \n",
    "                            hspace=1)\n",
    "        st.pyplot(fig4.get_figure())"
   ]
  },
  {
   "cell_type": "markdown",
   "metadata": {
    "id": "DgHI7CiU8DC2"
   },
   "source": [
    "### Pertanyaan 2:"
   ]
  },
  {
   "cell_type": "code",
   "execution_count": null,
   "metadata": {
    "id": "Go0lCsvO8DC2"
   },
   "outputs": [],
   "source": [
    "#semua visualisasi tergabung diatas, terbagi jadi 3 tab yaitu efek cuaca, grafik perilaku pelanggan, serta tabel korelasi antar variable."
   ]
  },
  {
   "cell_type": "markdown",
   "metadata": {
    "id": "_0-36BDLklRg"
   },
   "source": [
    "**Insight:**\n",
    "proses bisnis penyewaan sepeda sangat bergantung pada perilaku pelanggan sehari-hari dalam kondisi cuaca dan jam yang berbeda-beda, oleh karena itu masuk akal untuk mencari korelasi antara jadwal kerja atau libur mereka serta efek cuaca dalam keseharian mereka."
   ]
  },
  {
   "cell_type": "markdown",
   "metadata": {
    "id": "9y4VUsmcYNZ5"
   },
   "source": [
    "## Analisis Lanjutan (Opsional)"
   ]
  },
  {
   "cell_type": "code",
   "execution_count": null,
   "metadata": {
    "id": "iWhnzsJGYUCO"
   },
   "outputs": [],
   "source": []
  },
  {
   "cell_type": "markdown",
   "metadata": {
    "id": "_WeHlCeX8DC2"
   },
   "source": [
    "## Conclusion"
   ]
  },
  {
   "cell_type": "markdown",
   "metadata": {
    "id": "ZTcyR48Y8DC2"
   },
   "source": [
    "- Conclusion pertanyaan 1:\n",
    "- Ya, Cuaca berdampak terutama pada situasi cuaca, dimana saat hujan badai/ badai es pelanggan turun drastis\n",
    "- Suhu yang rendah, Kondisi cuaca buruk, kecepatan angin dan persen kelembapan yang tinggi membuat orang cenderung tidak mau bersepeda\n",
    "- Ternyata, suhu yang terasa berpengaruh positif membuat orang mau bersepeda.\n",
    "- Menjelang akhir tahun, kecepatan angin menurun\n",
    "-\n",
    "- Conclusion pertanyaan 2:\n",
    "- Untuk pengguna Casual, mereka lebih cenderung bersepeda pada hari libur (sabtu dan minggu/holiday) dan saat tengah hari sampai sore, sekitar jam 11.00-16.00\n",
    "- Pengguna kasual cenderung tidak bersepeda saat hari kerja\n",
    "- Untuk pengguna Registered, mereka lebih cenderung bersepeda pada hari kerja saat jam masuk kerja (jam 07.00-09.00) dan jam pulang kerja (jam 16.00-18.00)\n",
    "- Pengguna Registered cenderung bersepada pada hari kerja, membuktikan bahwa mereka memilih bersepeda untuk ke tempat kerja\n",
    "- Para pengguna baik registered atau casual paling banyak bersepeda di sore hari dari jam 16.00 sampai jam 18.00"
   ]
  }
 ],
 "metadata": {
  "colab": {
   "provenance": []
  },
  "kernelspec": {
   "display_name": "Python 3 (ipykernel)",
   "language": "python",
   "name": "python3"
  },
  "language_info": {
   "codemirror_mode": {
    "name": "ipython",
    "version": 3
   },
   "file_extension": ".py",
   "mimetype": "text/x-python",
   "name": "python",
   "nbconvert_exporter": "python",
   "pygments_lexer": "ipython3",
   "version": "3.8.20"
  },
  "vscode": {
   "interpreter": {
    "hash": "972b3bf27e332e87b5379f2791f6ef9dfc79c71018c370b0d7423235e20fe4d7"
   }
  }
 },
 "nbformat": 4,
 "nbformat_minor": 4
}
